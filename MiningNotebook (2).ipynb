{
 "cells": [
  {
   "cell_type": "markdown",
   "id": "f0adf691",
   "metadata": {},
   "source": [
    "---\n",
    "title: \"Dataset Description\"\n",
    "---\n",
    "\n",
    "## Goal of Collecting this Dataset\n",
    "\n",
    "This dataset provides key features for predicting house prices, including area, bedrooms, bathrooms,\n",
    "stories, amenities like air conditioning and parking, and information on furnishing status.\n",
    "It enables analysis and modelling to understand the factors impacting house prices and develop accurate predictions in real estate markets.\n",
    "\n",
    "## Source of the Dataset\n",
    "\n",
    "The dataset was sourced from the kaggle website in this URL : https://www.kaggle.com/datasets/harishkumardatalab/housing-price-prediction?resource=download&select=Housing.csv\n",
    "\n",
    "## General Information\n",
    "\n",
    "- Number of Attributes: 13\n",
    "- Number of Objects: 545\n",
    "- Type of Attributes: Numeric, Symmetric Binary, Ordinal.\n",
    "- Classes names: Price."
   ]
  },
  {
   "cell_type": "code",
   "execution_count": null,
   "id": "2d378032",
   "metadata": {},
   "outputs": [],
   "source": []
  }
 ],
 "metadata": {
  "kernelspec": {
   "display_name": "R",
   "language": "R",
   "name": "ir"
  },
  "language_info": {
   "codemirror_mode": "r",
   "file_extension": ".r",
   "mimetype": "text/x-r-source",
   "name": "R",
   "pygments_lexer": "r",
   "version": "3.6.1"
  }
 },
 "nbformat": 4,
 "nbformat_minor": 5
}
